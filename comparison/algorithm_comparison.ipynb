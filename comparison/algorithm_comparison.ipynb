{
 "cells": [
  {
   "cell_type": "code",
   "execution_count": 233,
   "outputs": [],
   "source": [
    "import pandas as pd\n",
    "import numpy as np\n",
    "import h5py\n",
    "\n",
    "import os\n",
    "import sys\n",
    "module_path = os.path.abspath(os.path.join(\"..\"))\n",
    "if module_path not in sys.path:\n",
    "    sys.path.append(module_path)"
   ],
   "metadata": {
    "collapsed": false
   }
  },
  {
   "cell_type": "code",
   "execution_count": 234,
   "outputs": [],
   "source": [
    "def get_non_dominated_points(array: np.array, columns_to_negate: list = []):\n",
    "    # Negate columns for minimisation\n",
    "    for col in columns_to_negate:\n",
    "        array[:, col] = - array[:, col]\n",
    "    # Get non_dominated points\n",
    "    result = non_dominated(array)\n",
    "    # Negate back the columns\n",
    "    for col in columns_to_negate:\n",
    "        array[:, col] = - array[:, col]\n",
    "        result[:, col] = - result[:, col]\n",
    "    return result"
   ],
   "metadata": {
    "collapsed": false
   }
  },
  {
   "cell_type": "code",
   "execution_count": 235,
   "metadata": {
    "collapsed": true
   },
   "outputs": [],
   "source": [
    "from converter import Converter\n",
    "from core.learners.metrics import non_dominated\n",
    "\n",
    "# Objectives\n",
    "objectives = [\"egypt_irr\", \"egypt_low_had\", \"sudan_irr\", \"ethiopia_hydro\"]\n",
    "\n",
    "# Read the solutions from EMODPS\n",
    "logdir_emodps = \"output_data/baseline_results_emodps.csv\"\n",
    "emodps_points = pd.read_csv(logdir_emodps, usecols=objectives).to_numpy()\n",
    "\n",
    "results_emodps = get_non_dominated_points(emodps_points, columns_to_negate=[0, 1, 2])\n",
    "# Change back to pandas\n",
    "results_emodps = pd.DataFrame(results_emodps, columns=objectives)\n",
    "\n",
    "# Read the solutions from MONES\n",
    "logdir_mones = \"output_data/baseline_results_mones.h5\"\n",
    "with h5py.File(logdir_mones, \"r\") as f:\n",
    "    nd_points = non_dominated(f[\"train\"][\"returns\"][\"ndarray\"][-1])\n",
    "    # Convert the solution to fit EMODPS data\n",
    "    nd_points_converted = Converter.convert_array(nd_points)\n",
    "    results_mones = pd.DataFrame(nd_points_converted, columns=objectives)\n",
    "    f.close()"
   ]
  },
  {
   "cell_type": "code",
   "execution_count": 236,
   "outputs": [
    {
     "name": "stdout",
     "output_type": "stream",
     "text": [
      "EMODPS non-dominated points:\n",
      "      egypt_irr  egypt_low_had  sudan_irr  ethiopia_hydro\n",
      "0     5.844010       0.241667   0.079331       15.009673\n",
      "1     5.370892       0.137500   0.000000       14.266241\n",
      "2     5.994473       0.208333   0.072954       15.009900\n",
      "3     4.551618       0.362500   0.000000       14.304393\n",
      "4     5.092632       0.191667   0.000000       14.236476\n",
      "..         ...            ...        ...             ...\n",
      "217   3.527874       0.187500   0.036244       11.636790\n",
      "218   4.411613       0.391667   0.061653       14.827489\n",
      "219   4.890457       0.258333   0.094999       14.896243\n",
      "220  17.844476       0.000000   0.554119       15.100161\n",
      "221   4.741431       0.275000   0.072363       14.926539\n",
      "\n",
      "[222 rows x 4 columns]\n",
      "There are 222 non-dominated points.\n"
     ]
    }
   ],
   "source": [
    "print(\"EMODPS non-dominated points:\\n\", results_emodps)\n",
    "print(f\"There are {len(results_emodps)} non-dominated points.\")"
   ],
   "metadata": {
    "collapsed": false
   }
  },
  {
   "cell_type": "code",
   "execution_count": 237,
   "outputs": [
    {
     "name": "stdout",
     "output_type": "stream",
     "text": [
      "MONES non-dominated points:\n",
      "     egypt_irr  egypt_low_had  sudan_irr  ethiopia_hydro\n",
      "0    7.050511       0.000000   0.000000        3.852477\n",
      "1    6.501449       0.058333   0.000000        3.810921\n",
      "2    4.712152       0.775000   0.030508        3.146889\n",
      "3    6.911745       0.016667   0.000000        3.852477\n",
      "4    7.048976       0.000000   0.000000        3.721112\n",
      "5    5.406947       0.687500   0.000000        3.764143\n",
      "6    6.125184       0.304167   0.000000        3.852476\n",
      "7    5.993262       0.308333   0.000000        3.652694\n",
      "8    5.118872       0.712500   0.000000        3.758328\n",
      "9    6.120017       0.337500   0.000000        3.826333\n",
      "10   4.855628       0.750000   0.000580        3.504006\n",
      "11   6.870209       0.025000   0.000000        3.852477\n",
      "12   6.019737       0.487500   0.000000        3.686051\n",
      "13   6.368688       0.058333   0.000000        3.677921\n",
      "There are 14 non-dominated points.\n"
     ]
    }
   ],
   "source": [
    "print(\"MONES non-dominated points:\\n\", results_mones)\n",
    "print(f\"There are {len(results_mones)} non-dominated points.\")"
   ],
   "metadata": {
    "collapsed": false
   }
  },
  {
   "cell_type": "code",
   "execution_count": 238,
   "outputs": [
    {
     "name": "stdout",
     "output_type": "stream",
     "text": [
      "Objective \t\t Best MONES \t\t Best EMODPS\n",
      "egypt_irr \t\t 4.71215178 \t\t 3.499272296771559\n",
      "egypt_low_had \t 0.0 \t\t\t\t 0.0\n",
      "sudan_irr \t\t 0.0 \t\t\t\t 0.0\n",
      "ethiopia_hydro \t 3.8524768 \t\t\t 15.125298421817458\n"
     ]
    }
   ],
   "source": [
    "print(\"Objective \\t\\t Best MONES \\t\\t Best EMODPS\")\n",
    "print(f\"egypt_irr \\t\\t {results_mones['egypt_irr'].min()} \\t\\t {results_emodps['egypt_irr'].min()}\")\n",
    "print(f\"egypt_low_had \\t {results_mones['egypt_low_had'].min()} \\t\\t\\t\\t {results_emodps['egypt_low_had'].min()}\")\n",
    "print(f\"sudan_irr \\t\\t {results_mones['sudan_irr'].min()} \\t\\t\\t\\t {results_emodps['sudan_irr'].min()}\")\n",
    "print(f\"ethiopia_hydro \\t {results_mones['ethiopia_hydro'].max()} \\t\\t\\t {results_emodps['ethiopia_hydro'].max()}\")"
   ],
   "metadata": {
    "collapsed": false
   }
  },
  {
   "cell_type": "code",
   "execution_count": 239,
   "outputs": [
    {
     "name": "stdout",
     "output_type": "stream",
     "text": [
      "['egypt_irr', 'egypt_low_had', 'sudan_irr', 'ethiopia_hydro']\n",
      "Best objective value: [3.499272296771559, 0.0, 0.0, 15.125298421817458]\n",
      "Worst objective value: [18.462717128022547, 0.8833333333333333, 0.7052263225088279, 3.1468892]\n"
     ]
    }
   ],
   "source": [
    "obj_indexes = [0, 1, 2, 3]\n",
    "directions = [\"min\", \"min\", \"min\", \"max\"]\n",
    "best = [1e9, 1e9, 1e9, 0]\n",
    "worst = [0, 0, 0, 1e10]\n",
    "\n",
    "for objective in obj_indexes:\n",
    "    if directions[objective] == \"min\":\n",
    "        best[objective] = min(best[objective], results_emodps[results_emodps.columns[objective]].min())\n",
    "        best[objective] = min(best[objective], results_mones[results_emodps.columns[objective]].min())\n",
    "        worst[objective] = max(worst[objective], results_emodps[results_emodps.columns[objective]].max())\n",
    "        worst[objective] = max(worst[objective], results_mones[results_emodps.columns[objective]].max())\n",
    "    elif directions[objective] == \"max\":\n",
    "        best[objective] = max(best[objective], results_emodps[results_emodps.columns[objective]].max())\n",
    "        best[objective] = max(best[objective], results_mones[results_emodps.columns[objective]].max())\n",
    "        worst[objective] = min(worst[objective], results_emodps[results_emodps.columns[objective]].min())\n",
    "        worst[objective] = min(worst[objective], results_mones[results_emodps.columns[objective]].min())\n",
    "\n",
    "print(objectives)\n",
    "print(\"Best objective value:\", best)\n",
    "print(\"Worst objective value:\", worst)"
   ],
   "metadata": {
    "collapsed": false
   }
  },
  {
   "cell_type": "code",
   "execution_count": 240,
   "outputs": [],
   "source": [
    "# Normalize objectives function. The best outcome is 0, the worst is 1 for each objective value\n",
    "def normalize_objs(df, worst, best):\n",
    "    for i, col in enumerate(df.columns):\n",
    "        df[col] = (best[i] - df[col]) / (best[i] - worst[i])\n",
    "    return np.array(df)"
   ],
   "metadata": {
    "collapsed": false
   }
  },
  {
   "cell_type": "code",
   "execution_count": 241,
   "outputs": [
    {
     "name": "stdout",
     "output_type": "stream",
     "text": [
      "Hypervolume MONES: 0.39129975337546846\n",
      "Hypervolume EMODPS: 2.0307369609592123\n"
     ]
    }
   ],
   "source": [
    "from pymoo.indicators.hv import HV\n",
    "\n",
    "# Normalise objectives\n",
    "results_mones_np = normalize_objs(results_mones.__deepcopy__(), worst=worst, best=best)\n",
    "results_emodps_np = normalize_objs(results_emodps.__deepcopy__(), worst=worst, best=best)\n",
    "\n",
    "# Set reference point to be larger (worse) than all objectives. Same as in Yassin paper.\n",
    "ref_point = np.array([1.2, 1.2, 1.2, 1.2])\n",
    "ind = HV(ref_point=ref_point)\n",
    "\n",
    "# Calculate Hypervolume\n",
    "print(\"Hypervolume MONES:\", ind(results_mones_np))\n",
    "print(\"Hypervolume EMODPS:\", ind(results_emodps_np))\n"
   ],
   "metadata": {
    "collapsed": false
   }
  },
  {
   "cell_type": "code",
   "execution_count": 242,
   "outputs": [],
   "source": [
    "def is_epsilon_enough(solution_set: np.array, pareto_front: np.array, epsilon: float):\n",
    "    for pf_point in pareto_front:\n",
    "        does_exist = False\n",
    "        for s_point in solution_set:\n",
    "            if (pf_point <= s_point + epsilon).all():\n",
    "                does_exist = True\n",
    "                break\n",
    "        if not does_exist:\n",
    "            return False\n",
    "    return True\n",
    "\n",
    "def calculate_additive_epsilon_indicator_v1(solution_set: np.array, pareto_front: np.array, precision: float = 0.001):\n",
    "    num_of_intervals = int(1.0 / precision)\n",
    "    for i in range(num_of_intervals + 1):\n",
    "        epsilon = precision * i\n",
    "        if is_epsilon_enough(solution_set, pareto_front, epsilon):\n",
    "            return epsilon\n",
    "    return None\n",
    "\n",
    "# def calculate_additive_epsilon_indicator_v2(solution_set: np.array, pareto_front: np.array):\n",
    "#     # Find maximum values for each objective\n",
    "#     best_obj_value = np.zeros(solution_set.shape[1])\n",
    "#     for i in range(len(best_obj_value)):\n",
    "#         best_obj_value = np.max(pareto_front[:, i])\n",
    "#\n",
    "#     epsilon = float(\"inf\")\n",
    "#     for solution in solution_set:\n",
    "#         difference = best_obj_value - solution\n",
    "#         biggest_shift = np.max(difference)\n",
    "#         epsilon = min(epsilon, biggest_shift)\n",
    "#     return epsilon"
   ],
   "metadata": {
    "collapsed": false
   }
  },
  {
   "cell_type": "code",
   "execution_count": 243,
   "outputs": [
    {
     "name": "stdout",
     "output_type": "stream",
     "text": [
      "Mones epsilon: 0.9420000000000001\n",
      "Emodps epsilon: 0.0\n"
     ]
    }
   ],
   "source": [
    "# Normalise objectives. 1 is best, 0 is worst\n",
    "results_mones_np = normalize_objs(results_mones.__deepcopy__(), worst=best, best=worst)\n",
    "results_emodps_np = normalize_objs(results_emodps.__deepcopy__(), worst=best, best=worst)\n",
    "\n",
    "# Create PF\n",
    "all_points = np.concatenate([results_mones_np, results_emodps_np])\n",
    "pareto_front = get_non_dominated_points(all_points)\n",
    "\n",
    "# Calculate additive epsilon\n",
    "mones_epsilon = calculate_additive_epsilon_indicator_v1(results_mones_np, pareto_front)\n",
    "emodps_epsilon = calculate_additive_epsilon_indicator_v1(results_emodps_np, pareto_front)\n",
    "\n",
    "print(\"Mones epsilon:\", mones_epsilon)\n",
    "print(\"Emodps epsilon:\", emodps_epsilon)"
   ],
   "metadata": {
    "collapsed": false
   }
  },
  {
   "cell_type": "code",
   "execution_count": 244,
   "outputs": [
    {
     "name": "stdout",
     "output_type": "stream",
     "text": [
      "IGD+ is 0.2427163916840977\n",
      "IGD+ is 0.0\n"
     ]
    }
   ],
   "source": [
    "# Calculate IGD+\n",
    "from pymoo.indicators.igd_plus import IGDPlus\n",
    "\n",
    "ind = IGDPlus(pareto_front)\n",
    "print(\"IGD+ is\", ind(results_mones_np))\n",
    "print(\"IGD+ is\", ind(results_emodps_np))\n"
   ],
   "metadata": {
    "collapsed": false
   }
  },
  {
   "cell_type": "code",
   "execution_count": 244,
   "outputs": [],
   "source": [],
   "metadata": {
    "collapsed": false
   }
  }
 ],
 "metadata": {
  "kernelspec": {
   "display_name": "Python 3",
   "language": "python",
   "name": "python3"
  },
  "language_info": {
   "codemirror_mode": {
    "name": "ipython",
    "version": 2
   },
   "file_extension": ".py",
   "mimetype": "text/x-python",
   "name": "python",
   "nbconvert_exporter": "python",
   "pygments_lexer": "ipython2",
   "version": "2.7.6"
  }
 },
 "nbformat": 4,
 "nbformat_minor": 0
}
